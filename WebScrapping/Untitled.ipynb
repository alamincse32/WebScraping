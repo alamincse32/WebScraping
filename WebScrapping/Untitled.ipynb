{
 "cells": [
  {
   "cell_type": "code",
   "execution_count": 4,
   "id": "039402a2-db27-4273-9f63-758826fa0a85",
   "metadata": {},
   "outputs": [],
   "source": [
    "import requests \n",
    "import pandas as pd\n",
    "import numpy as np\n",
    "import re\n",
    "import os\n",
    "import time\n",
    "import re"
   ]
  },
  {
   "cell_type": "code",
   "execution_count": 5,
   "id": "0bda45ef-cb02-451c-b82a-d35333d255fe",
   "metadata": {},
   "outputs": [],
   "source": [
    "data = []\n",
    "path = os.path.join('Results', str(1), 'token_count.csv')\n",
    "df = pd.read_csv(path)\n",
    "df = df[['Tokens', str(1)]]\n",
    "data.append(df)\n",
    "for i in range(1,150, 1):\n",
    "    path = os.path.join('Results', str(i), 'token_count.csv')\n",
    "    df = pd.read_csv(path)\n",
    "    df = df[str(i)]\n",
    "    data.append(df)"
   ]
  },
  {
   "cell_type": "code",
   "execution_count": 7,
   "id": "1d6db57b-d042-459c-aed6-e825bb29a7c4",
   "metadata": {},
   "outputs": [],
   "source": [
    "df = pd.concat(data, axis=1)\n",
    "df.to_csv('Results/total_count.csv')"
   ]
  },
  {
   "cell_type": "code",
   "execution_count": null,
   "id": "3d083d44-3229-448a-97e1-56be30a0aa35",
   "metadata": {},
   "outputs": [],
   "source": []
  }
 ],
 "metadata": {
  "kernelspec": {
   "display_name": "Python 3 (ipykernel)",
   "language": "python",
   "name": "python3"
  },
  "language_info": {
   "codemirror_mode": {
    "name": "ipython",
    "version": 3
   },
   "file_extension": ".py",
   "mimetype": "text/x-python",
   "name": "python",
   "nbconvert_exporter": "python",
   "pygments_lexer": "ipython3",
   "version": "3.9.12"
  }
 },
 "nbformat": 4,
 "nbformat_minor": 5
}
