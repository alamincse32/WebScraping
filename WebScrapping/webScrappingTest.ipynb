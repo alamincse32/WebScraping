{
 "cells": [
  {
   "cell_type": "code",
   "execution_count": 12,
   "id": "b573aaf6-9ac4-4780-bb1d-8c6b9080a06b",
   "metadata": {},
   "outputs": [],
   "source": [
    "import requests \n",
    "from bs4 import BeautifulSoup as bs \n",
    "import re\n",
    "import os\n",
    "import pandas as pd"
   ]
  },
  {
   "cell_type": "code",
   "execution_count": 2,
   "id": "cd307777-7d1e-40af-99e4-ef1ad6587730",
   "metadata": {},
   "outputs": [],
   "source": [
    "url = \"https://www.dakotamonument.com/\""
   ]
  },
  {
   "cell_type": "code",
   "execution_count": 3,
   "id": "6e1c1784-f40a-4300-8fce-c7c397dc7ad6",
   "metadata": {},
   "outputs": [
    {
     "name": "stdout",
     "output_type": "stream",
     "text": [
      "200\n"
     ]
    }
   ],
   "source": [
    "headers = {'User-Agent': 'Mozilla/5.0 (Windows NT 10.0; Win64; x64) AppleWebKit/537.36 (KHTML, like Gecko) Chrome/96.0.4664.93 Safari/537.36'}\n",
    "req = requests.get(url, headers=headers)\n",
    "print(req.status_code)"
   ]
  },
  {
   "cell_type": "code",
   "execution_count": 4,
   "id": "e7453b7c-3751-417d-afc0-9cc8ccc0b1d3",
   "metadata": {},
   "outputs": [],
   "source": [
    "soup = bs(req.text, 'html.parser')"
   ]
  },
  {
   "cell_type": "code",
   "execution_count": 5,
   "id": "a1727509-b23e-4149-ac31-a2542defeaef",
   "metadata": {},
   "outputs": [
    {
     "name": "stdout",
     "output_type": "stream",
     "text": [
      "80\n"
     ]
    }
   ],
   "source": [
    "links = soup.find_all('a', href = True)\n",
    "print(len(links))"
   ]
  },
  {
   "cell_type": "code",
   "execution_count": 7,
   "id": "a655d118-9b1a-42c7-a3ad-3fad272d980a",
   "metadata": {},
   "outputs": [],
   "source": [
    "all_links = []\n",
    "for link in links:\n",
    "    all_links.append(link['href'])"
   ]
  },
  {
   "cell_type": "code",
   "execution_count": 8,
   "id": "6e1f89e0-6918-4237-8cc5-26de55b1449d",
   "metadata": {},
   "outputs": [
    {
     "data": {
      "text/plain": [
       "\"Monuments, Memorials, & Signs - Fargo, ND | Dakota Monument Skip to content 1212 24th Ave S. Fargo, ND 58103 701-237-4343 Monuments & Memorials Gallery Services Design Guide Granite Colors About Our History Meet Our Team Testimonials Contact Us Monuments & Memorials Gallery Services Design Guide Granite Colors About Our History Meet Our Team Testimonials Contact Us MAKING MEMORIESLAST FOREVER. Family Operated for 5 Generations - Since 1911 MONUMENTS, MEMORIALS & PROFESSIONAL SERVICES IN FARGO, ND Services Pre-Planning & Home Visits We are happy to schedule an appointment with you in the comfort of your own home. Learn More On-Site Engraving & Maintenance Professional cleaning services and onsite engraving can be done right in the cemetery. Learn More Artwork & Personalization With today’s technologies, the options are endless, we can create nearly any shape, text, or image you can image. Learn More Our Work All MemorialsVeteran MemorialsSignageYard & Garden MarkersPersonalized Gifts SEE FULL GALLERY Our Mission Dedicated to designing a memorial to celebrate a life through high-quality craftmanship Midwest Mentality We are honest, hardworking and respectful Teamwork We work together to serve you better Innovative We are always improving Strive For Greatness Refuse to be average Our Process 1. Meet & Plan Guide you through selections online or in our showroom that align with what you want and your budget. 2. Design & Create Finalize your artwork and make it come to life by shaping, engraving, and lettering your monument or memorial. 3. Install & Remember Delivery and installation on site with our professional installation team. GET STARTED ★★★★★Tyler, thank you for all your kind and patient assistance with selecting and wording our son's memorial bench. We are so looking forward to the many years of comfort this bench will provide for us while honoring our son's memory. Thanks again Dale & Bonnie Sayer ★★★★★Tyler, A great big Thompson thank you for the beautiful headstone set Sept 9th in memory of Nathan. We really feel that. It looks wonderful. A lasting tribute to the life Nathan lead. Again Thanks! Laurell E. Thompson ★★★★★Amy at Dakota Monument Company was so great to work with. She was very knowledgeable, helpful, and super patient through this difficult process. She went above and beyond to get exactly what our family wanted for our headstone. Sue Schuchard ★★★★★Amy at Dakota Monument is absolutely the best! Picking a headstone for a loved one is never easy, but she did amazing work for us and was so, so caring and patient with our ideas and changes. Kristy Folz ★★★★★I worked at DMC for 3 + years and can proudly say there is not a company around that truly cares more about the customer than they do. Countless times I have witnessed their caring and inspiring employees all the way up to ownership, go to extreme lengths to fulfill and exceed the customer’s request(s). They are flat out AMAZING at what they do throughout the entire process from the initial consultation to delivering the final product. Andrew Altringer SEE MORE Frequently Asked Questions How much will this cost? How long will it take to be installed? What’s included? How far away/Where do you install? Do you make these in house? Where do you get your granite from? How much will this cost? How much will this cost? Due to the multiple factors that go into the pricing of a memorial such as; shape, size, granite color, finish of the stone, and ad-ons, it is difficult to put an exact price. However, we do our best to offer something for any budget, no matter how big or small. If you have something in mind, please feel free to reach out and we can get you a price quote. How long will it take to be installed? How long will it take to be installed? With the supply chain issues that the world has been facing, it is difficult to get accurate timeframes. However, plan on ten weeks at the quickest, but know that it can take up to fourteen months for stones that come from overseas. What’s included? What’s included? When we give a price quote, we try to include as much as possible so there are no surprises. Our prices will include engraving on one side of the memorial, design work on one side, delivery, installation, and foundation (granite or concrete depending on memorial type). The only things that are not be included would be cemetery fee’s (if applicable), sales tax, or add on items (vases, laser etching, custom design work, etc.). How far away/Where do you install? How far away/Where do you install? With locations in Fargo and Mandan, we actively install across almost the entire state of North Dakota, the Northeast ¼ of South Dakota, and the western 1/3 of Minnesota. With our wide array of contacts in the industry, we can help find someone to install your memorial almost anywhere in North America. Do you make these in house? Do you make these in house? Typically, we will order the shape and finish of the stone. Any hand tooling, sandblasting, laser etching, or adding textures are done in house. We have a unique blend of modern technology and old-world craftsmanship. Many times, you can see a hammer and chisel still being used today. Where do you get your granite from? Where do you get your granite from? We use granite from all regions of the world. From as close as Milbank, South Dakota, to as far away as Norway or India. However, a majority of the granite we use comes from South Dakota or Minnesota. Contact Us Reach out to us today and our friendly team will help answer any questions you may have. Dakota Monument Company 1212 24th Avenue South Fargo, ND 58103 Phone: 701-237-4343 Fax: 701-232-7874 Hours Monday: 8:00am - 7:00pm Tuesday: 8:00am - 5:00pm Wednesday: 8:00am - 5:00pm Thursday: 8:00am - 5:00pm Friday: 8:00am - 5:00pm Saturday: 9:00am - 12:00pm (From Feb. to Mid-Nov.) Sunday: Open by appointment only Please enable JavaScript in your browser to complete this form.Name *Email *Phone *CemeteryMessage *Submit 1212 24th Avenue South Fargo, ND 58103 Phone: 701-237-4343 Fax: 701-232-7874 Monuments & Memorials Services Gallery Granite Colors Our History Contact Us Dealer Login Dealer Central HOURS: Monday: 8:00am - 7:00pm (closed 5/29) Tuesday: 8:00am - 5:00pm Wednesday: 8:00am - 5:00pm Thursday: 8:00am - 5:00pm Friday: 8:00am - 5:00pm Saturday: 9:00am - 12:00pm (Closed from Dec. thru Feb.) (closed 5/27) Sunday: Open by appointment only © 2023 Dakota Monument Company. All Rights Reserved. | Site By AdShark Marketing Home Monuments & Memorials Gallery Services Design Guide Granite Colors About Us Our History Meet Our Team Testimonials Contact Us\""
      ]
     },
     "execution_count": 8,
     "metadata": {},
     "output_type": "execute_result"
    }
   ],
   "source": [
    "text = soup.getText()\n",
    "text = re.sub(r'\\n+', ' ', text).strip()\n",
    "text = re.sub(r'\\t+', ' ', text).strip()\n",
    "text = re.sub(r'\\s+', ' ', text).strip()\n",
    "\n",
    "text"
   ]
  },
  {
   "cell_type": "code",
   "execution_count": 9,
   "id": "031dfec7-b111-43fe-b906-63283ed6ec66",
   "metadata": {},
   "outputs": [],
   "source": [
    "path = 'Results/'+str(1)\n",
    "isExist = os.path.exists(path)\n",
    "if not isExist:\n",
    "    os.mkdir(path)\n",
    "    "
   ]
  },
  {
   "cell_type": "code",
   "execution_count": 10,
   "id": "c441b553-8528-4b30-82f7-d8aed6259591",
   "metadata": {},
   "outputs": [],
   "source": [
    "with open(path+'/text.txt', 'w') as f:\n",
    "    f.write(text)\n"
   ]
  },
  {
   "cell_type": "code",
   "execution_count": 15,
   "id": "b7b696ed-194e-45b8-8a20-46e43395689e",
   "metadata": {},
   "outputs": [],
   "source": [
    "df = pd.DataFrame(all_links, columns=[\"Links\"])\n",
    "df.to_csv(path+\"/links.csv\", index=False)"
   ]
  },
  {
   "cell_type": "code",
   "execution_count": null,
   "id": "d7f58440-e094-4f17-8773-3c0d3df586d1",
   "metadata": {},
   "outputs": [],
   "source": []
  }
 ],
 "metadata": {
  "kernelspec": {
   "display_name": "Python 3 (ipykernel)",
   "language": "python",
   "name": "python3"
  },
  "language_info": {
   "codemirror_mode": {
    "name": "ipython",
    "version": 3
   },
   "file_extension": ".py",
   "mimetype": "text/x-python",
   "name": "python",
   "nbconvert_exporter": "python",
   "pygments_lexer": "ipython3",
   "version": "3.9.12"
  }
 },
 "nbformat": 4,
 "nbformat_minor": 5
}
