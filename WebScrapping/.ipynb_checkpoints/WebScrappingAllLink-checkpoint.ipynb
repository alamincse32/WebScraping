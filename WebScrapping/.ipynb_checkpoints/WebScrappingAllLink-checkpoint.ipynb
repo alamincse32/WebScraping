{
 "cells": [
  {
   "cell_type": "code",
   "execution_count": 26,
   "id": "f5f5e60a-45d3-424b-83e7-1868f3941431",
   "metadata": {},
   "outputs": [],
   "source": [
    "import requests \n",
    "from bs4 import BeautifulSoup as bs\n",
    "import pandas as pd\n",
    "import numpy as np\n",
    "import re\n",
    "import os\n",
    "import time"
   ]
  },
  {
   "cell_type": "code",
   "execution_count": 27,
   "id": "f68e16da-15a7-4fe8-badc-4682a29e4085",
   "metadata": {},
   "outputs": [],
   "source": [
    "# headers = {'User-Agent': 'Mozilla/5.0 (Windows NT 10.0; Win64; x64) AppleWebKit/537.36 (KHTML, like Gecko) Chrome/96.0.4664.93 Safari/537.36'}\n",
    "\n",
    "header={ \"User-Agent\": \"Mozilla/5.0 (Windows NT 10.0; Win64; x64) AppleWebKit/537.36 (KHTML, like Gecko) Chrome/96.0.4664.93 Safari/537.36\",\n",
    "        \"Accept\": \"text/html,application/xhtml+xml,application/xml;q=0.9,image/avif,image/webp,*/*;q=0.8\",\n",
    "        \"Accept-Language\": \"en-US,en;q=0.5\",\n",
    "        \"Accept-Encoding\": \"gzip, deflate\",\n",
    "        \"Connection\": \"keep-alive\",\n",
    "        \"Upgrade-Insecure-Requests\": \"1\",\n",
    "        \"Sec-Fetch-Dest\": \"document\",\n",
    "        \"Sec-Fetch-Mode\": \"navigate\",\n",
    "        \"Sec-Fetch-Site\": \"none\",\n",
    "        \"Sec-Fetch-User\": \"?1\",\n",
    "        \"Cache-Control\": \"max-age=0\" }\n"
   ]
  },
  {
   "cell_type": "code",
   "execution_count": 28,
   "id": "1e5aebc5-5c18-430e-ad28-181bada1eb2d",
   "metadata": {},
   "outputs": [],
   "source": [
    "path = 'Results'"
   ]
  },
  {
   "cell_type": "code",
   "execution_count": 39,
   "id": "06724015-ae30-4ce1-8400-78ca37424f1d",
   "metadata": {},
   "outputs": [],
   "source": [
    "def get_data(directory):\n",
    "    data_path = os.path.join(directory, 'links.csv')\n",
    "    df = pd.read_csv(data_path)\n",
    "    links = df['Links'].tolist()\n",
    "    data = []\n",
    "    for link in links:\n",
    "        try:\n",
    "            req = requests.get(link, headers=headers)\n",
    "            print(f'The link is {link} and the status code is {req.status_code}')\n",
    "            if req.status_code == 200:\n",
    "                soup = bs(req.text, 'html.parser')\n",
    "                text = soup.getText()\n",
    "                text = re.sub(r'\\n+', ' ', text).strip()\n",
    "                text = re.sub(r'\\t+', ' ', text).strip()\n",
    "                text = re.sub(r'\\s+', ' ', text).strip()\n",
    "                data.append(text)  \n",
    "                time.sleep(3)\n",
    "        except Exception as e:\n",
    "            print(link + \" \" + e)\n",
    "    return data"
   ]
  },
  {
   "cell_type": "code",
   "execution_count": 40,
   "id": "ec465f5a-c77a-47a1-97cc-9d57de94e785",
   "metadata": {},
   "outputs": [
    {
     "name": "stdout",
     "output_type": "stream",
     "text": [
      "The link is https://www.borsheimlogistics.com and the status code is 200\n",
      "The link is https://www.borsheimlogistics.com/request-form and the status code is 404\n",
      "The link is https://www.borsheimlogistics.com/book-a-crane-now and the status code is 404\n",
      "The link is https://www.borsheimlogistics.com/crane-rental-operated and the status code is 404\n",
      "The link is https://www.borsheimlogistics.com/crane-rental-bare and the status code is 404\n",
      "The link is https://www.borsheimlogistics.com/equipment-for-sale and the status code is 404\n",
      "The link is https://www.borsheimlogistics.com/transloading and the status code is 404\n",
      "The link is https://www.borsheimlogistics.com/crane-inspections and the status code is 404\n",
      "The link is https://www.borsheimlogistics.com/overhead-cranes and the status code is 404\n",
      "The link is https://www.borsheimlogistics.com/crane-gallery and the status code is 404\n",
      "The link is https://www.borsheimlogistics.com/employment and the status code is 404\n",
      "The link is https://www.borsheimlogistics.com/reviews and the status code is 200\n",
      "The link is https://www.borsheimlogistics.com/about and the status code is 404\n",
      "The link is https://www.borsheimlogistics.com/company-history and the status code is 404\n",
      "The link is https://www.borsheimlogistics.com/blog and the status code is 404\n",
      "The link is https://www.borsheimlogistics.com/primary-location and the status code is 404\n",
      "The link is https://www.borsheimlogistics.com/services and the status code is 200\n",
      "The link is https://www.borsheimlogistics.com/equipment and the status code is 200\n",
      "The link is https://www.borsheimlogistics.com/we-specialize-in and the status code is 200\n",
      "The link is https://www.borsheimlogistics.com/careers and the status code is 200\n",
      "The link is https://www.borsheimlogistics.com/request-an-estimate and the status code is 200\n"
     ]
    }
   ],
   "source": [
    "for i in range(1,2,1):\n",
    "    isExist = os.path.exists(os.path.join(path, str(i)))\n",
    "    if isExist:\n",
    "        directory = os.path.join(path, str(i))\n",
    "        data = get_data(directory)\n",
    "        df = pd.DataFrame(data, columns=['Data'])\n",
    "        df.to_csv(os.path.join(directory,'data.csv'))\n",
    "        "
   ]
  },
  {
   "cell_type": "code",
   "execution_count": null,
   "id": "d2ff18d6-f64b-480b-9dca-d1b9fec59067",
   "metadata": {},
   "outputs": [],
   "source": []
  }
 ],
 "metadata": {
  "kernelspec": {
   "display_name": "Python 3 (ipykernel)",
   "language": "python",
   "name": "python3"
  },
  "language_info": {
   "codemirror_mode": {
    "name": "ipython",
    "version": 3
   },
   "file_extension": ".py",
   "mimetype": "text/x-python",
   "name": "python",
   "nbconvert_exporter": "python",
   "pygments_lexer": "ipython3",
   "version": "3.9.12"
  }
 },
 "nbformat": 4,
 "nbformat_minor": 5
}
