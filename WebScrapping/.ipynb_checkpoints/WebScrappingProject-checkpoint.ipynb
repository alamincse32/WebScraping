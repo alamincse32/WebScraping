{
 "cells": [
  {
   "cell_type": "code",
   "execution_count": 2,
   "id": "db881240-de7f-4ede-b13b-a164dfd96d0b",
   "metadata": {},
   "outputs": [],
   "source": [
    "import requests \n",
    "from bs4 import BeautifulSoup as bs\n",
    "import pandas as pd\n",
    "import numpy as np\n",
    "import re\n",
    "import os"
   ]
  },
  {
   "cell_type": "code",
   "execution_count": 3,
   "id": "406910f3-a2c8-47cd-82ff-e89e458739c2",
   "metadata": {},
   "outputs": [],
   "source": [
    "excel_raw = pd.ExcelFile(\"web scraping project.xlsx\")"
   ]
  },
  {
   "cell_type": "code",
   "execution_count": 4,
   "id": "b821ddd0-f4d5-4864-806e-14bc81be15e2",
   "metadata": {},
   "outputs": [],
   "source": [
    "df = pd.read_excel(excel_raw, sheet_name='Sheet1')"
   ]
  },
  {
   "cell_type": "code",
   "execution_count": 5,
   "id": "f7724fcd-c1cf-485f-b195-4f60ec1c2037",
   "metadata": {},
   "outputs": [
    {
     "data": {
      "text/html": [
       "<div>\n",
       "<style scoped>\n",
       "    .dataframe tbody tr th:only-of-type {\n",
       "        vertical-align: middle;\n",
       "    }\n",
       "\n",
       "    .dataframe tbody tr th {\n",
       "        vertical-align: top;\n",
       "    }\n",
       "\n",
       "    .dataframe thead th {\n",
       "        text-align: right;\n",
       "    }\n",
       "</style>\n",
       "<table border=\"1\" class=\"dataframe\">\n",
       "  <thead>\n",
       "    <tr style=\"text-align: right;\">\n",
       "      <th></th>\n",
       "      <th>company website</th>\n",
       "      <th>keywords for textual analysis</th>\n",
       "    </tr>\n",
       "  </thead>\n",
       "  <tbody>\n",
       "    <tr>\n",
       "      <th>0</th>\n",
       "      <td>https://www.borsheimcrane.com/west-fargo-location</td>\n",
       "      <td>robot welders</td>\n",
       "    </tr>\n",
       "    <tr>\n",
       "      <th>1</th>\n",
       "      <td>https://bytespeed.com/</td>\n",
       "      <td>virtual reality</td>\n",
       "    </tr>\n",
       "    <tr>\n",
       "      <th>2</th>\n",
       "      <td>https://www.cardinalcorp.com/</td>\n",
       "      <td>automation/automated</td>\n",
       "    </tr>\n",
       "    <tr>\n",
       "      <th>3</th>\n",
       "      <td>https://comdelinnovation.com/</td>\n",
       "      <td>research</td>\n",
       "    </tr>\n",
       "    <tr>\n",
       "      <th>4</th>\n",
       "      <td>https://www.nottco.com/</td>\n",
       "      <td>design</td>\n",
       "    </tr>\n",
       "  </tbody>\n",
       "</table>\n",
       "</div>"
      ],
      "text/plain": [
       "                                     company website  \\\n",
       "0  https://www.borsheimcrane.com/west-fargo-location   \n",
       "1                             https://bytespeed.com/   \n",
       "2                      https://www.cardinalcorp.com/   \n",
       "3                      https://comdelinnovation.com/   \n",
       "4                            https://www.nottco.com/   \n",
       "\n",
       "  keywords for textual analysis  \n",
       "0                 robot welders  \n",
       "1               virtual reality  \n",
       "2          automation/automated  \n",
       "3                     research   \n",
       "4                        design  "
      ]
     },
     "execution_count": 5,
     "metadata": {},
     "output_type": "execute_result"
    }
   ],
   "source": [
    "df.head()"
   ]
  },
  {
   "cell_type": "code",
   "execution_count": 6,
   "id": "deea71db-3873-4e49-b7a9-94746e286d70",
   "metadata": {},
   "outputs": [],
   "source": [
    "website_links = df['company website'].tolist()"
   ]
  },
  {
   "cell_type": "code",
   "execution_count": 7,
   "id": "4b1056a1-5be1-4d6d-b79a-4a9088af8f6e",
   "metadata": {},
   "outputs": [
    {
     "name": "stdout",
     "output_type": "stream",
     "text": [
      "149\n"
     ]
    }
   ],
   "source": [
    "print(len(website_links))"
   ]
  },
  {
   "cell_type": "code",
   "execution_count": 8,
   "id": "cbe90ed5-732a-42c0-af85-f27a2acacf27",
   "metadata": {},
   "outputs": [],
   "source": [
    "headers = {'User-Agent': 'Mozilla/5.0 (Windows NT 10.0; Win64; x64) AppleWebKit/537.36 (KHTML, like Gecko) Chrome/96.0.4664.93 Safari/537.36'}"
   ]
  },
  {
   "cell_type": "code",
   "execution_count": 9,
   "id": "78f993bd-3c7e-458c-bea7-3ac241fdbba7",
   "metadata": {},
   "outputs": [],
   "source": [
    "def scrape(url, dir_number):\n",
    "    req = requests.get(url, headers=headers)\n",
    "    print(f'Status Code for {url} is {req.status_code}\\n')\n",
    "    soup = bs(req.text, 'html.parser')\n",
    "    links = soup.find_all('a', href = True)\n",
    "    print(f'Number of inside links are {len(links)}\\n')\n",
    "    all_links = []\n",
    "    for link in links:\n",
    "        all_links.append(link['href'])\n",
    "    text = soup.getText()\n",
    "    text = re.sub(r'\\n+', ' ', text).strip()\n",
    "    text = re.sub(r'\\t+', ' ', text).strip()\n",
    "    text = re.sub(r'\\s+', ' ', text).strip()\n",
    "    path = 'Results/'+str(dir_number)\n",
    "    isExist = os.path.exists(path)\n",
    "    if not isExist:\n",
    "        os.mkdir(path)\n",
    "    with open(path+'/text.txt', 'w') as f:\n",
    "        f.write(text)\n",
    "    \n",
    "    df = pd.DataFrame(all_links, columns=[\"Links\"])\n",
    "    df.to_csv(path+\"/links.csv\", index=False)\n",
    "    "
   ]
  },
  {
   "cell_type": "code",
   "execution_count": 12,
   "id": "f0ef5449-d228-44b9-b979-6beac20b3e28",
   "metadata": {},
   "outputs": [
    {
     "name": "stdout",
     "output_type": "stream",
     "text": [
      "Status Code for https://www.borsheimcrane.com/west-fargo-location is 200\n",
      "\n",
      "Number of inside links are 45\n",
      "\n"
     ]
    },
    {
     "ename": "NameError",
     "evalue": "name 'os' is not defined",
     "output_type": "error",
     "traceback": [
      "\u001b[0;31m---------------------------------------------------------------------------\u001b[0m",
      "\u001b[0;31mNameError\u001b[0m                                 Traceback (most recent call last)",
      "Input \u001b[0;32mIn [12]\u001b[0m, in \u001b[0;36m<cell line: 2>\u001b[0;34m()\u001b[0m\n\u001b[1;32m      1\u001b[0m i \u001b[38;5;241m=\u001b[39m \u001b[38;5;241m1\u001b[39m\n\u001b[1;32m      2\u001b[0m \u001b[38;5;28;01mfor\u001b[39;00m link \u001b[38;5;129;01min\u001b[39;00m website_links:\n\u001b[0;32m----> 3\u001b[0m     \u001b[43mscrape\u001b[49m\u001b[43m(\u001b[49m\u001b[43mlink\u001b[49m\u001b[43m,\u001b[49m\u001b[43m \u001b[49m\u001b[43mi\u001b[49m\u001b[43m)\u001b[49m\n\u001b[1;32m      4\u001b[0m     i \u001b[38;5;241m+\u001b[39m\u001b[38;5;241m=\u001b[39m\u001b[38;5;241m1\u001b[39m\n",
      "Input \u001b[0;32mIn [9]\u001b[0m, in \u001b[0;36mscrape\u001b[0;34m(url, dir_number)\u001b[0m\n\u001b[1;32m     13\u001b[0m text \u001b[38;5;241m=\u001b[39m re\u001b[38;5;241m.\u001b[39msub(\u001b[38;5;124mr\u001b[39m\u001b[38;5;124m'\u001b[39m\u001b[38;5;124m\\\u001b[39m\u001b[38;5;124ms+\u001b[39m\u001b[38;5;124m'\u001b[39m, \u001b[38;5;124m'\u001b[39m\u001b[38;5;124m \u001b[39m\u001b[38;5;124m'\u001b[39m, text)\u001b[38;5;241m.\u001b[39mstrip()\n\u001b[1;32m     14\u001b[0m path \u001b[38;5;241m=\u001b[39m \u001b[38;5;124m'\u001b[39m\u001b[38;5;124mResults/\u001b[39m\u001b[38;5;124m'\u001b[39m\u001b[38;5;241m+\u001b[39m\u001b[38;5;28mstr\u001b[39m(dir_number)\n\u001b[0;32m---> 15\u001b[0m isExist \u001b[38;5;241m=\u001b[39m \u001b[43mos\u001b[49m\u001b[38;5;241m.\u001b[39mpath\u001b[38;5;241m.\u001b[39mexists(path)\n\u001b[1;32m     16\u001b[0m \u001b[38;5;28;01mif\u001b[39;00m \u001b[38;5;129;01mnot\u001b[39;00m isExist:\n\u001b[1;32m     17\u001b[0m     os\u001b[38;5;241m.\u001b[39mmkdir(path)\n",
      "\u001b[0;31mNameError\u001b[0m: name 'os' is not defined"
     ]
    }
   ],
   "source": [
    "i = 1\n",
    "for link in website_links:\n",
    "    scrape(link, i)\n",
    "    i +=1"
   ]
  },
  {
   "cell_type": "code",
   "execution_count": null,
   "id": "f7067657-6b5d-482a-b783-b20666da6779",
   "metadata": {},
   "outputs": [],
   "source": []
  }
 ],
 "metadata": {
  "kernelspec": {
   "display_name": "Python 3 (ipykernel)",
   "language": "python",
   "name": "python3"
  },
  "language_info": {
   "codemirror_mode": {
    "name": "ipython",
    "version": 3
   },
   "file_extension": ".py",
   "mimetype": "text/x-python",
   "name": "python",
   "nbconvert_exporter": "python",
   "pygments_lexer": "ipython3",
   "version": "3.9.12"
  }
 },
 "nbformat": 4,
 "nbformat_minor": 5
}
